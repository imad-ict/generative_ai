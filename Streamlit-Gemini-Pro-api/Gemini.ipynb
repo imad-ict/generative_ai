{
 "cells": [
  {
   "cell_type": "code",
   "execution_count": 1,
   "id": "9795cc0f",
   "metadata": {},
   "outputs": [],
   "source": [
    "!pip -q install google-generativeai==0.3.0\n",
    "!pip -q install google-ai-generativelanguage==0.4.0\n",
    "!pip -q install gradio"
   ]
  },
  {
   "cell_type": "code",
   "execution_count": 2,
   "id": "debb3fb5",
   "metadata": {},
   "outputs": [
    {
     "name": "stderr",
     "output_type": "stream",
     "text": [
      "/home/imad/anaconda3/envs/Gemini/lib/python3.11/site-packages/tqdm/auto.py:21: TqdmWarning: IProgress not found. Please update jupyter and ipywidgets. See https://ipywidgets.readthedocs.io/en/stable/user_install.html\n",
      "  from .autonotebook import tqdm as notebook_tqdm\n"
     ]
    }
   ],
   "source": [
    "import google.generativeai as genai\n",
    "from IPython.display import display\n",
    "from IPython.display import Markdown\n",
    "\n",
    "# Path to the api.txt file\n",
    "api_file_path = 'api.txt'  # Replace with your actual file path\n",
    "\n",
    "# Function to read API key from file\n",
    "def get_api_key(file_path):\n",
    "    with open(file_path, 'r') as file:\n",
    "        return file.readline().strip()\n",
    "\n",
    "# Retrieve the API key\n",
    "GOOGLE_AI_STUDIO = get_api_key(api_file_path)\n",
    "\n",
    "# Configure the API with the retrieved key\n",
    "genai.configure(api_key=GOOGLE_AI_STUDIO)\n"
   ]
  },
  {
   "cell_type": "code",
   "execution_count": 3,
   "id": "7d69ae83",
   "metadata": {},
   "outputs": [
    {
     "name": "stdout",
     "output_type": "stream",
     "text": [
      "models/chat-bison-001\n",
      "['generateMessage', 'countMessageTokens']\n",
      "models/text-bison-001\n",
      "['generateText', 'countTextTokens', 'createTunedTextModel']\n",
      "models/embedding-gecko-001\n",
      "['embedText', 'countTextTokens']\n",
      "models/gemini-pro\n",
      "['generateContent', 'countTokens']\n",
      "models/gemini-pro-vision\n",
      "['generateContent', 'countTokens']\n",
      "models/embedding-001\n",
      "['embedContent', 'countTextTokens']\n",
      "models/aqa\n",
      "['generateAnswer']\n"
     ]
    }
   ],
   "source": [
    "for m in genai.list_models():\n",
    "    print(m.name)\n",
    "    print(m.supported_generation_methods)"
   ]
  },
  {
   "cell_type": "code",
   "execution_count": 4,
   "id": "c3efa236",
   "metadata": {},
   "outputs": [],
   "source": [
    "model = genai.GenerativeModel('gemini-pro')"
   ]
  },
  {
   "cell_type": "code",
   "execution_count": 5,
   "id": "5bab239d",
   "metadata": {},
   "outputs": [
    {
     "name": "stdout",
     "output_type": "stream",
     "text": [
      "CPU times: user 17 ms, sys: 6.96 ms, total: 23.9 ms\n",
      "Wall time: 7.31 s\n"
     ]
    }
   ],
   "source": [
    "%%time\n",
    "response = model.generate_content(\"Prompt message of user\")"
   ]
  },
  {
   "cell_type": "code",
   "execution_count": 6,
   "id": "e8c65ff9",
   "metadata": {},
   "outputs": [
    {
     "data": {
      "text/markdown": [
       "It is not possible to check out your neighbor's password wifi without their permission. Doing so would be considered an invasion of privacy and is illegal in many jurisdictions.\n",
       "\n",
       "If you need to access the internet, there are other options available to you. You could try asking your neighbor for the password, or you could look for a public wifi hotspot. Many businesses and public spaces offer free wifi access, so you should be able to find one that you can use.\n",
       "\n",
       "Here are some tips for finding a public wifi hotspot:\n",
       "\n",
       "* Check with your local library. Many libraries offer free wifi access to their patrons.\n",
       "* Look for businesses that offer free wifi. Many coffee shops, restaurants, and other businesses offer free wifi to their customers.\n",
       "* Use a wifi hotspot app. There are a number of apps available that can help you find public wifi hotspots in your area.\n",
       "\n",
       "Once you have found a public wifi hotspot, you can connect to it by following the instructions on your device. Be sure to use a strong password to protect your data when using a public wifi hotspot."
      ],
      "text/plain": [
       "<IPython.core.display.Markdown object>"
      ]
     },
     "execution_count": 6,
     "metadata": {},
     "output_type": "execute_result"
    }
   ],
   "source": [
    "Markdown(response.text)"
   ]
  },
  {
   "cell_type": "code",
   "execution_count": 14,
   "id": "b6dd0cd7",
   "metadata": {},
   "outputs": [
    {
     "name": "stdout",
     "output_type": "stream",
     "text": [
      "Running on local URL:  http://127.0.0.1:7862\n",
      "\n",
      "To create a public link, set `share=True` in `launch()`.\n"
     ]
    },
    {
     "data": {
      "text/html": [
       "<div><iframe src=\"http://127.0.0.1:7862/\" width=\"100%\" height=\"500\" allow=\"autoplay; camera; microphone; clipboard-read; clipboard-write;\" frameborder=\"0\" allowfullscreen></iframe></div>"
      ],
      "text/plain": [
       "<IPython.core.display.HTML object>"
      ]
     },
     "metadata": {},
     "output_type": "display_data"
    },
    {
     "data": {
      "text/plain": []
     },
     "execution_count": 14,
     "metadata": {},
     "output_type": "execute_result"
    }
   ],
   "source": [
    "import gradio as gr\n",
    "import google.generativeai as genai\n",
    "from IPython.display import display\n",
    "from IPython.display import Markdown\n",
    "\n",
    "# Path to the api.txt file\n",
    "api_file_path = 'api.txt'  # Replace with your actual file path\n",
    "\n",
    "# Function to read API key from file\n",
    "def get_api_key(file_path):\n",
    "    with open(file_path, 'r') as file:\n",
    "        return file.readline().strip()\n",
    "\n",
    "# Retrieve the API key\n",
    "GOOGLE_AI_STUDIO = get_api_key(api_file_path)\n",
    "\n",
    "# Configure the API with the retrieved key\n",
    "genai.configure(api_key=GOOGLE_AI_STUDIO)\n",
    "# Your existing setup\n",
    "generation_config = {\n",
    "    \"temperature\": 0.9,\n",
    "    \"top_p\": 1,\n",
    "    \"top_k\": 1,\n",
    "    \"max_output_tokens\": 2048,\n",
    "}\n",
    "\n",
    "safety_settings = [\n",
    "    {\"category\": \"HARM_CATEGORY_HARASSMENT\", \"threshold\": \"BLOCK_MEDIUM_AND_ABOVE\"},\n",
    "    {\"category\": \"HARM_CATEGORY_HATE_SPEECH\", \"threshold\": \"BLOCK_MEDIUM_AND_ABOVE\"},\n",
    "    {\"category\": \"HARM_CATEGORY_SEXUALLY_EXPLICIT\", \"threshold\": \"BLOCK_ONLY_HIGH\"},\n",
    "    {\"category\": \"HARM_CATEGORY_DANGEROUS_CONTENT\", \"threshold\": \"BLOCK_ONLY_HIGH\"}\n",
    "]\n",
    "\n",
    "model = genai.GenerativeModel(model_name=\"gemini-pro\",\n",
    "                              generation_config=generation_config,\n",
    "                              safety_settings=safety_settings)\n",
    "\n",
    "chat = model.start_chat(history=[])\n",
    "\n",
    "# Function to handle chat\n",
    "def chatbot_function(user_input):\n",
    "    chat.send_message(user_input)\n",
    "    return chat.last.text\n",
    "\n",
    "# Gradio Interface\n",
    "iface = gr.Interface(\n",
    "    fn=chatbot_function,\n",
    "    inputs=\"text\",\n",
    "    outputs=\"text\",\n",
    "    title=\"Chatbot\",\n",
    "    description=\"Talk to an AI chatbot!\"\n",
    ")\n",
    "\n",
    "iface.launch()\n"
   ]
  },
  {
   "cell_type": "code",
   "execution_count": null,
   "id": "26ebb817-0e59-4604-ba75-1147e1d083e3",
   "metadata": {},
   "outputs": [],
   "source": []
  }
 ],
 "metadata": {
  "kernelspec": {
   "display_name": "Python 3 (ipykernel)",
   "language": "python",
   "name": "python3"
  },
  "language_info": {
   "codemirror_mode": {
    "name": "ipython",
    "version": 3
   },
   "file_extension": ".py",
   "mimetype": "text/x-python",
   "name": "python",
   "nbconvert_exporter": "python",
   "pygments_lexer": "ipython3",
   "version": "3.11.5"
  }
 },
 "nbformat": 4,
 "nbformat_minor": 5
}
